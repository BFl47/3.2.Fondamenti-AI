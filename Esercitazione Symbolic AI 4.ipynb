{
  "cells": [
    {
      "cell_type": "markdown",
      "metadata": {
        "id": "view-in-github",
        "colab_type": "text"
      },
      "source": [
        "<a href=\"https://colab.research.google.com/github/BFl47/3.2.Fondamenti-AI/blob/main/Esercitazione%20Symbolic%20AI%204.ipynb\" target=\"_parent\"><img src=\"https://colab.research.google.com/assets/colab-badge.svg\" alt=\"Open In Colab\"/></a>"
      ]
    },
    {
      "cell_type": "markdown",
      "metadata": {
        "id": "GuJGxlW7rzsP"
      },
      "source": [
        "# **Esercitazione 4**\n",
        "## Local Search\n"
      ]
    },
    {
      "cell_type": "markdown",
      "metadata": {
        "id": "oDInnl5b-d-9"
      },
      "source": [
        "## Algoritmi di Local Search\n",
        "* ### Hill-Climbing\n",
        "* ### Simulated Annealing\n",
        "* ### Local Beam Search\n"
      ]
    },
    {
      "cell_type": "markdown",
      "metadata": {
        "id": "V7UtTlyR-d--"
      },
      "source": [
        "## Genetic Algorithms"
      ]
    },
    {
      "cell_type": "markdown",
      "metadata": {
        "id": "sXP14fDD-d-_"
      },
      "source": [
        "## Setup: N-Queens\n",
        "\n",
        "### Data una scacchiera NxN, posizionare N regine sulla scacchiera in maniera che nessuna coppia di regine possa attaccarsi, i.e.:\n",
        "* ### occupi la stessa riga\n",
        "* ### occupi la stessa colonna\n",
        "* ### sia sulla stessa diagonale"
      ]
    },
    {
      "cell_type": "markdown",
      "metadata": {
        "id": "U443tsGq-d-_"
      },
      "source": [
        "## Esercizio 1:\n",
        "### Completare l’implementazione di un algoritmo genetico per risolvere N-queens. La struttura dell’algoritmo è già presente, e vanno solo completate le fasi di:\n",
        "* ### selezione stocastica dei genitori\n",
        "* ### generazione dei figli tramite crossover\n",
        "* ### mutazione dei figli"
      ]
    },
    {
      "cell_type": "markdown",
      "metadata": {
        "id": "JMTxzpp7-d_A"
      },
      "source": [
        "## Rappresentazione degli individui\n",
        "\n",
        "### Ogni individuo è rappresentato come una lista di lunghezza N, contenente interi (geni) nell’intervallo\n",
        "### [0, …, N-1]. Dato un individuo x, ogni gene x[i] rappresenta una regina posizionata alla riga x[i] e alla colonna i.\n",
        "\n",
        "### Nota: gli indici di righe e colonne partono da 0.\n",
        "\n",
        "## Es: x = [0, 6, 3, 5, 7, 1, 4, 2]\n"
      ]
    },
    {
      "cell_type": "markdown",
      "metadata": {
        "id": "AroeZYGs-d_B"
      },
      "source": [
        "## Selezione stocastica dei genitori\n",
        "### Implementare la funzione di fitness f(x) che ritorni, per l’individuo x, il numero di coppie di regine distinte che non possono attaccarsi.\n",
        "### Nota: le coppie (p, q) e (q, p) non sono distinte, e vanno quindi contate una volta sola.\n",
        "\n",
        "### Implementare selezione dei genitori con strategia roulette wheel: ogni genitore viene estratto dalla popolazione con probabilità proporzionale alla sua fitness."
      ]
    },
    {
      "cell_type": "markdown",
      "metadata": {
        "id": "GL6SZ5sq-d_B"
      },
      "source": [
        "Simulated Annealing\n",
        "non interessa come si arriva alla soluzione, restart randomici\n",
        "Nelle prime fasi dell'algoritmo si permettono anche mosse cattive\n",
        "Fase iniziale randomica (molto calda) -> esplorazione randomica\n",
        "\n",
        "La probabilità di accettare una mossa cattiva descresce con la temperatura che decresce\n",
        "\n",
        "Local Beam Search\n",
        "si esplorano k stati contemporaneamente\n",
        "\n",
        "Algoritmi genetici\n",
        "Si inizia con una popolazione 8k stati da cui si comincia a cercare il goal\n",
        "Si generano individui\n",
        "\n",
        "Crossover point -> punto in cui si vanno a mischiare gli individui\n",
        "Generare una nuova generazione combinando le stringhe dei genitori.\n",
        "Possibilità randomica che i sia una mutazione all'interno di una\n",
        "\n",
        "Libertà -> obiettivo ultimo trovare il goal del problema\n",
        "Non ci importa come siamo arrivati al goal"
      ]
    },
    {
      "cell_type": "code",
      "execution_count": null,
      "metadata": {
        "id": "YtIHF781-d_C"
      },
      "outputs": [],
      "source": [
        "import random\n",
        "import itertools\n",
        "\n",
        "def fitness_fn(individual):\n",
        "    \"\"\"Implementare la funzione di fitness.\n",
        "\n",
        "    Dato un individuo, ritornare il valore di fitness corrispondente (quanto è buono)\n",
        "    Coppie di regine che non si stanno attaccando\n",
        "    Conteggio/2\n",
        "    \"\"\"\n",
        "    nonattacking = 0\n",
        "\n",
        "    for (idx1, valore1), (idx2, valore2) in itertools.product(enumerate(individual), enumerate(individual)):\n",
        "        col1 = idx1\n",
        "        row1 = valore1\n",
        "        col2 = idx2\n",
        "        row2 = valore2\n",
        "\n",
        "        if col1 == col2:\n",
        "            continue\n",
        "        if row1 == row2:\n",
        "            continue\n",
        "        if abs(row1-row2)==abs(col2-col1): #check sulla stessa diagonale\n",
        "            continue\n",
        "\n",
        "        nonattacking += 1\n",
        "\n",
        "    return (nonattacking/2)\n",
        "\n",
        "def roulette_wheel_selection(population, fitnesses, k):\n",
        "    \"\"\"Implementare la fase di selezione dei genitori.\n",
        "\n",
        "    Dati:\n",
        "    - population: lista di individui\n",
        "    - fitnesses: lista dei valori di fitness per ogni individuo\n",
        "    - k: numero di parent da selezionare\n",
        "    ritornare una lista di k individui, estratti a caso dalla\n",
        "    popolazione con probabilità proporzionale al loro valore di fitness.\n",
        "    \"\"\"\n",
        "    return random.choices(population, weights=fitnesses, k=k)"
      ]
    },
    {
      "cell_type": "markdown",
      "metadata": {
        "id": "w7tu1twC-d_D"
      },
      "source": [
        "## Crossover\n",
        "### Implementare l’operatore di crossover: dati due genitori x ed y:\n",
        "* ### estrarre un punto di crossover c tra 0 e N-1\n",
        "* ### generare il primo figlio come:\n",
        "    ### [x[0], …, x[c], y[c+1], …, y[N]]\n",
        "* ### generare il secondo figlio come:\n",
        "    ### [y[0], …, y[c], x[c+1], …, x[N]]"
      ]
    },
    {
      "cell_type": "code",
      "execution_count": null,
      "metadata": {
        "id": "KdwCAGks-d_E"
      },
      "outputs": [],
      "source": [
        "def crossover(p, q):\n",
        "    \"\"\"Implementare la fase di crossover.\n",
        "\n",
        "    Dati due individui genitori p, q, ritornare una *nuova* coppia di\n",
        "    individui figli che siano il risultato del crossover tra p e q\n",
        "    \"\"\"\n",
        "    c = random.randrange(len(p))\n",
        "\n",
        "    w, v = p.copy(), q.copy()\n",
        "\n",
        "    w[c:] = p[c:]\n",
        "    w[:c] = q[:c]\n",
        "\n",
        "    v[:c] = p[:c]\n",
        "    v[c:] = q[c:]\n",
        "\n",
        "    return w,v"
      ]
    },
    {
      "cell_type": "markdown",
      "metadata": {
        "id": "rk8icA64-d_E"
      },
      "source": [
        "## Mutation\n",
        "### Implementare l’operatore di mutazione: dato un individuo x e il mutation rate r, ritornare:\n",
        "* ### con probabilità r, la versione mutata di x\n",
        "* ### con probabilità (1-r), una copia di x\n",
        "### Per mutare x, estrarre l’indice di un singolo gene da modificare ed estrarre un nuovo valore per quel gene."
      ]
    },
    {
      "cell_type": "code",
      "execution_count": null,
      "metadata": {
        "id": "GemgPZ3L-d_E"
      },
      "outputs": [],
      "source": [
        "def mutation(individual, rate):\n",
        "    \"\"\"Implementare la fase di mutazione.\n",
        "\n",
        "    Dato un individuo e la probabilità di mutazione, ritornare *una\n",
        "    copia* dell'individuo con applicata l'eventuale mutazione (i.e. un\n",
        "    singolo gene ri-estratto tra i valori possibili). Si\n",
        "    ricorda che, in python, data una lista l se ne può ottenere una\n",
        "    copia con l.copy().\n",
        "    \"\"\"\n",
        "    w = individual.copy()\n",
        "\n",
        "    if random.random()>rate:\n",
        "        return w\n",
        "    else:\n",
        "        i = random.randrange(len(individual))\n",
        "        w[i] = random.randrange(len(individual))\n",
        "        return w"
      ]
    },
    {
      "cell_type": "markdown",
      "metadata": {
        "id": "m4kbdypL-d_F"
      },
      "source": [
        "## Verifichiamo l'esercizio"
      ]
    },
    {
      "cell_type": "code",
      "execution_count": null,
      "metadata": {
        "id": "NXjfTEhG-d_F"
      },
      "outputs": [],
      "source": [
        "import math\n",
        "\n",
        "def random_individual(n):\n",
        "    return [random.randrange(n) for _ in range(n)]\n",
        "\n",
        "def genetic_algorithm_step(\n",
        "    population,\n",
        "    fitnesses,\n",
        "    mutation_rate,\n",
        "):\n",
        "    parents = roulette_wheel_selection(population, fitnesses, k=len(population))\n",
        "    offspring = []\n",
        "    for x, y in zip(parents[::2], parents[1::2]):\n",
        "        offspring += crossover(x, y)\n",
        "    offspring = [mutation(x, rate=mutation_rate) for x in offspring]\n",
        "    offspring_fitnesses = [fitness_fn(x) for x in offspring]\n",
        "    population, fitnesses = offspring, offspring_fitnesses\n",
        "    return population, fitnesses\n",
        "\n",
        "def run_ga_n_queens(\n",
        "    n,\n",
        "    population,\n",
        "    mutation_rate,\n",
        "    steps,\n",
        "    verbose=False\n",
        "):\n",
        "    target_fitness = int(n*(n-1)/2)\n",
        "    ga_params = dict(\n",
        "        mutation_rate=mutation_rate,\n",
        "    )\n",
        "    fitnesses = [fitness_fn(x) for x in population]\n",
        "    solved = False\n",
        "    if verbose:\n",
        "        print(f'[0] Champion fitness: {max(fitnesses)}; population fitness (mean +- std): {mean(fitnesses)} +- {std(fitnesses)}')\n",
        "    for i in range(steps):\n",
        "        population, fitnesses = genetic_algorithm_step(population, fitnesses, **ga_params)\n",
        "        if verbose:\n",
        "            print(f'[{i+1}] Champion fitness: {max(fitnesses)}; population fitness (mean +- std): {mean(fitnesses)} +- {std(fitnesses)}')\n",
        "        if max(fitnesses) == target_fitness:\n",
        "            if verbose:\n",
        "                print(f'Solution found at generation {i+1}.')\n",
        "            solved = True\n",
        "            break\n",
        "    else:\n",
        "        if verbose:\n",
        "            print(f'Solution not found in the given number of generations.')\n",
        "    i_champ = argmax(fitnesses)\n",
        "    champion = population[i_champ]\n",
        "    if verbose:\n",
        "        print(f'Champion individual (fitness: {fitnesses[i_champ]}):')\n",
        "        print_board(champion)\n",
        "    return solved\n",
        "\n",
        "def argmax(v):\n",
        "    i_m, m = None, None\n",
        "    for i, vi in enumerate(v):\n",
        "        if i_m is None or vi > m:\n",
        "            m = vi\n",
        "            i_m = i\n",
        "    return i_m\n",
        "\n",
        "def mean(v):\n",
        "    return sum(v) / len(v)\n",
        "\n",
        "def std(v):\n",
        "    mu = mean(v)\n",
        "    return math.sqrt(sum([(x - mu)**2 for x in v]) / len(v))\n",
        "\n",
        "def print_board(individual):\n",
        "    print(f'Board resulting from {individual}')\n",
        "    n = len(individual)\n",
        "    board = [[\"-\" for _ in range(n)] for _ in range(n)]\n",
        "    for j, i in enumerate(individual):\n",
        "        board[i][j] = \"Q\"\n",
        "    for i in range(n):\n",
        "        for j in range(n):\n",
        "            k = board[i][j]\n",
        "            print(f'{k} ', end=\"\")\n",
        "        print()"
      ]
    },
    {
      "cell_type": "code",
      "execution_count": null,
      "metadata": {
        "id": "1huPgDqr-d_F",
        "outputId": "c7ede207-e635-4aa4-9be0-a31a1d3b9034"
      },
      "outputs": [
        {
          "name": "stdout",
          "output_type": "stream",
          "text": [
            "Esercizio 1:\n",
            "------------\n",
            "[0] Champion fitness: 13.0; population fitness (mean +- std): 9.48 +- 1.9823218709382182\n",
            "[1] Champion fitness: 13.0; population fitness (mean +- std): 9.68 +- 2.034109141614579\n",
            "[2] Champion fitness: 12.0; population fitness (mean +- std): 9.82 +- 1.669610733075228\n",
            "[3] Champion fitness: 13.0; population fitness (mean +- std): 9.92 +- 1.5979987484350546\n",
            "[4] Champion fitness: 13.0; population fitness (mean +- std): 9.52 +- 1.7116074316267738\n",
            "[5] Champion fitness: 13.0; population fitness (mean +- std): 9.96 +- 1.5615377036754505\n",
            "[6] Champion fitness: 14.0; population fitness (mean +- std): 9.98 +- 1.5683111936092278\n",
            "[7] Champion fitness: 13.0; population fitness (mean +- std): 9.88 +- 1.5829087149927503\n",
            "[8] Champion fitness: 13.0; population fitness (mean +- std): 9.86 +- 1.4423591785682226\n",
            "[9] Champion fitness: 13.0; population fitness (mean +- std): 9.58 +- 1.6503332996700997\n",
            "[10] Champion fitness: 13.0; population fitness (mean +- std): 9.88 +- 1.5702229141112416\n",
            "[11] Champion fitness: 12.0; population fitness (mean +- std): 10.14 +- 1.3857849761055996\n",
            "[12] Champion fitness: 13.0; population fitness (mean +- std): 10.24 +- 1.3350655414622907\n",
            "[13] Champion fitness: 13.0; population fitness (mean +- std): 9.86 +- 1.854831528737852\n",
            "[14] Champion fitness: 13.0; population fitness (mean +- std): 10.0 +- 1.697056274847714\n",
            "[15] Champion fitness: 13.0; population fitness (mean +- std): 10.0 +- 1.5491933384829668\n",
            "[16] Champion fitness: 13.0; population fitness (mean +- std): 9.78 +- 2.022770377477384\n",
            "[17] Champion fitness: 13.0; population fitness (mean +- std): 9.98 +- 1.8164801127455268\n",
            "[18] Champion fitness: 13.0; population fitness (mean +- std): 10.0 +- 1.8973665961010275\n",
            "[19] Champion fitness: 14.0; population fitness (mean +- std): 10.38 +- 1.7651062290978408\n",
            "[20] Champion fitness: 13.0; population fitness (mean +- std): 10.22 +- 1.7920937475478227\n",
            "[21] Champion fitness: 13.0; population fitness (mean +- std): 10.46 +- 1.8023318229449317\n",
            "[22] Champion fitness: 14.0; population fitness (mean +- std): 10.48 +- 1.9415457759218553\n",
            "[23] Champion fitness: 13.0; population fitness (mean +- std): 9.9 +- 1.7233687939614086\n",
            "[24] Champion fitness: 13.0; population fitness (mean +- std): 9.94 +- 1.7596590578859308\n",
            "[25] Champion fitness: 14.0; population fitness (mean +- std): 10.22 +- 1.8142767153882557\n",
            "[26] Champion fitness: 14.0; population fitness (mean +- std): 9.94 +- 2.1392522057952874\n",
            "[27] Champion fitness: 14.0; population fitness (mean +- std): 10.02 +- 2.2225210910135367\n",
            "[28] Champion fitness: 13.0; population fitness (mean +- std): 9.94 +- 1.8483506160899237\n",
            "[29] Champion fitness: 14.0; population fitness (mean +- std): 10.66 +- 1.8067650649710933\n",
            "[30] Champion fitness: 14.0; population fitness (mean +- std): 10.26 +- 1.7528262891684387\n",
            "[31] Champion fitness: 14.0; population fitness (mean +- std): 10.44 +- 2.174028518672191\n",
            "[32] Champion fitness: 13.0; population fitness (mean +- std): 10.46 +- 1.4994665718181257\n",
            "[33] Champion fitness: 14.0; population fitness (mean +- std): 10.7 +- 1.711724276862369\n",
            "[34] Champion fitness: 14.0; population fitness (mean +- std): 10.8 +- 1.6492422502470645\n",
            "[35] Champion fitness: 14.0; population fitness (mean +- std): 10.66 +- 1.6566230711903056\n",
            "[36] Champion fitness: 13.0; population fitness (mean +- std): 10.76 +- 1.7153425313913253\n",
            "[37] Champion fitness: 14.0; population fitness (mean +- std): 10.42 +- 1.8771254619763693\n",
            "[38] Champion fitness: 12.0; population fitness (mean +- std): 10.08 +- 1.5979987484350546\n",
            "[39] Champion fitness: 13.0; population fitness (mean +- std): 9.88 +- 1.7508854902591433\n",
            "[40] Champion fitness: 13.0; population fitness (mean +- std): 9.98 +- 1.6061133210331084\n",
            "[41] Champion fitness: 14.0; population fitness (mean +- std): 9.86 +- 2.1355093069335935\n",
            "[42] Champion fitness: 14.0; population fitness (mean +- std): 10.32 +- 1.8486752013266152\n",
            "[43] Champion fitness: 14.0; population fitness (mean +- std): 10.32 +- 1.9229144546755066\n",
            "[44] Champion fitness: 14.0; population fitness (mean +- std): 10.26 +- 1.5596153371905526\n",
            "[45] Champion fitness: 14.0; population fitness (mean +- std): 10.52 +- 1.499866660740214\n",
            "[46] Champion fitness: 14.0; population fitness (mean +- std): 10.48 +- 1.459314907756376\n",
            "[47] Champion fitness: 14.0; population fitness (mean +- std): 10.18 +- 1.583540337345405\n",
            "[48] Champion fitness: 14.0; population fitness (mean +- std): 9.84 +- 1.815048208726148\n",
            "[49] Champion fitness: 14.0; population fitness (mean +- std): 9.64 +- 2.2249494376277412\n",
            "[50] Champion fitness: 13.0; population fitness (mean +- std): 10.18 +- 1.8186808406094785\n",
            "[51] Champion fitness: 14.0; population fitness (mean +- std): 10.16 +- 2.003596765818911\n",
            "[52] Champion fitness: 13.0; population fitness (mean +- std): 10.08 +- 1.842172630347113\n",
            "[53] Champion fitness: 14.0; population fitness (mean +- std): 9.8 +- 2.1725560982400434\n",
            "[54] Champion fitness: 14.0; population fitness (mean +- std): 10.22 +- 2.147463620180793\n",
            "[55] Champion fitness: 14.0; population fitness (mean +- std): 10.48 +- 2.220270253820466\n",
            "[56] Champion fitness: 13.0; population fitness (mean +- std): 10.74 +- 1.694815624190431\n",
            "[57] Champion fitness: 13.0; population fitness (mean +- std): 10.82 +- 1.5321879780235839\n",
            "[58] Champion fitness: 13.0; population fitness (mean +- std): 10.66 +- 1.5047923444781341\n",
            "[59] Champion fitness: 14.0; population fitness (mean +- std): 11.02 +- 1.2882546332150333\n",
            "[60] Champion fitness: 13.0; population fitness (mean +- std): 10.36 +- 1.1271202242884288\n",
            "[61] Champion fitness: 13.0; population fitness (mean +- std): 9.84 +- 1.4880860190190617\n",
            "[62] Champion fitness: 12.0; population fitness (mean +- std): 9.5 +- 1.5264337522473748\n",
            "[63] Champion fitness: 13.0; population fitness (mean +- std): 9.88 +- 1.8070971196922423\n",
            "[64] Champion fitness: 13.0; population fitness (mean +- std): 10.08 +- 1.5979987484350546\n",
            "[65] Champion fitness: 13.0; population fitness (mean +- std): 10.38 +- 1.5217095649301804\n",
            "[66] Champion fitness: 13.0; population fitness (mean +- std): 9.52 +- 1.9823218709382187\n",
            "[67] Champion fitness: 14.0; population fitness (mean +- std): 9.92 +- 1.937420966129974\n",
            "[68] Champion fitness: 13.0; population fitness (mean +- std): 10.28 +- 1.562561998769969\n",
            "[69] Champion fitness: 13.0; population fitness (mean +- std): 10.14 +- 1.483374531263092\n",
            "[70] Champion fitness: 13.0; population fitness (mean +- std): 10.48 +- 1.5778466338652815\n",
            "[71] Champion fitness: 13.0; population fitness (mean +- std): 9.96 +- 1.8434749794884657\n",
            "[72] Champion fitness: 14.0; population fitness (mean +- std): 10.06 +- 2.1578693194908727\n",
            "[73] Champion fitness: 15.0; population fitness (mean +- std): 10.2 +- 1.5748015748023623\n",
            "Solution found at generation 73.\n",
            "Champion individual (fitness: 15.0):\n",
            "Board resulting from [3, 0, 4, 1, 5, 2]\n",
            "- Q - - - - \n",
            "- - - Q - - \n",
            "- - - - - Q \n",
            "Q - - - - - \n",
            "- - Q - - - \n",
            "- - - - Q - \n"
          ]
        },
        {
          "data": {
            "text/plain": [
              "True"
            ]
          },
          "execution_count": 7,
          "metadata": {},
          "output_type": "execute_result"
        }
      ],
      "source": [
        "random.seed(12345)\n",
        "pop_size = 50\n",
        "population = [random_individual(n=6) for _ in range(pop_size)]\n",
        "params = dict(\n",
        "    mutation_rate=0.5,\n",
        ")\n",
        "\n",
        "print(f'Esercizio 1:')\n",
        "print(f'------------')\n",
        "run_ga_n_queens(\n",
        "    n=6,\n",
        "    population=population,\n",
        "    **params,\n",
        "    steps=500,\n",
        "    verbose=True\n",
        ")"
      ]
    }
  ],
  "metadata": {
    "colab": {
      "provenance": [],
      "include_colab_link": true
    },
    "kernelspec": {
      "display_name": "Python 3",
      "name": "python3"
    },
    "language_info": {
      "codemirror_mode": {
        "name": "ipython",
        "version": 3
      },
      "file_extension": ".py",
      "mimetype": "text/x-python",
      "name": "python",
      "nbconvert_exporter": "python",
      "pygments_lexer": "ipython3",
      "version": "3.10.12"
    }
  },
  "nbformat": 4,
  "nbformat_minor": 0
}